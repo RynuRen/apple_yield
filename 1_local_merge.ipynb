{
 "cells": [
  {
   "cell_type": "code",
   "execution_count": 1,
   "id": "7bdeff4a-dc4d-42b2-af89-c2d7504a039d",
   "metadata": {},
   "outputs": [],
   "source": [
    "import pandas as pd"
   ]
  },
  {
   "cell_type": "code",
   "execution_count": 2,
   "id": "da36c847-b614-4c79-a74d-2993549f50ea",
   "metadata": {},
   "outputs": [],
   "source": [
    "df = pd.read_csv('data/done/apple_loc.csv', encoding='cp949')\n",
    "weather = pd.read_csv('data/done/weather_loc.csv', encoding='cp949')"
   ]
  },
  {
   "cell_type": "code",
   "execution_count": 3,
   "id": "3aac048b-15dc-437a-872a-4cc56d9f0c0b",
   "metadata": {},
   "outputs": [
    {
     "name": "stdout",
     "output_type": "stream",
     "text": [
      "<class 'pandas.core.frame.DataFrame'>\n",
      "RangeIndex: 1590 entries, 0 to 1589\n",
      "Data columns (total 13 columns):\n",
      " #   Column       Non-Null Count  Dtype  \n",
      "---  ------       --------------  -----  \n",
      " 0   년            1590 non-null   int64  \n",
      " 1   월            1590 non-null   object \n",
      " 2   대지역          1590 non-null   object \n",
      " 3   소지역          1590 non-null   object \n",
      " 4   평균기온 (℃)     1590 non-null   float64\n",
      " 5   최고기온 (℃)     1590 non-null   float64\n",
      " 6   최저기온 (℃)     1590 non-null   float64\n",
      " 7   강수량 (㎜)      1590 non-null   float64\n",
      " 8   상대습도 (%)     1590 non-null   float64\n",
      " 9   최소 상대습도 (%)  1590 non-null   float64\n",
      " 10  일조시간 (h)     1590 non-null   float64\n",
      " 11  평균 풍속 (㎧)    1590 non-null   float64\n",
      " 12  최대 풍속 (㎧)    1590 non-null   float64\n",
      "dtypes: float64(9), int64(1), object(3)\n",
      "memory usage: 161.6+ KB\n"
     ]
    }
   ],
   "source": [
    "weather.info()"
   ]
  },
  {
   "cell_type": "code",
   "execution_count": 4,
   "id": "9b99db97-3e4b-4028-be9e-aaddb3863d95",
   "metadata": {},
   "outputs": [
    {
     "data": {
      "text/plain": [
       "array(['3월', '4월', '5월', '6월', '7월', '8월', '9월', '2월'], dtype=object)"
      ]
     },
     "execution_count": 4,
     "metadata": {},
     "output_type": "execute_result"
    }
   ],
   "source": [
    "weather['월'].unique()"
   ]
  },
  {
   "cell_type": "code",
   "execution_count": 5,
   "id": "68714623-ed2a-4a75-b54f-3a1fe98a9729",
   "metadata": {},
   "outputs": [],
   "source": [
    "season_temp = weather.copy()\n",
    "season_temp.drop(season_temp[season_temp['월']=='2월'].index, inplace=True)\n",
    "season_temp['계절'] = season_temp['월'].replace(['3월','4월','5월','6월','7월','8월','9월'], ['봄','봄','여름','여름','여름','가을','가을'])\n",
    "season_temp.drop(columns='월', inplace=True)\n",
    "\n",
    "season_temp = round(season_temp.groupby(['년', '계절', '대지역', '소지역']).mean(), 1).reset_index()\n",
    "season_temp = season_temp[['년', '계절', '대지역', '소지역', '평균기온 (℃)', '최고기온 (℃)', '최저기온 (℃)', '강수량 (㎜)']]"
   ]
  },
  {
   "cell_type": "code",
   "execution_count": 6,
   "id": "0d4763f6-526e-4393-ae5d-bf3231cdb538",
   "metadata": {},
   "outputs": [],
   "source": [
    "spring_temp = season_temp[season_temp['계절'] == '봄'].drop(columns='계절')\n",
    "spring_temp.columns = ['년', '대지역', '소지역', 'sp평균기온(℃)', 'sp최고기온(℃)', 'sp최저기온(℃)', 'sp강수량(mm)']\n",
    "\n",
    "summer_temp = season_temp[season_temp['계절'] == '여름'].drop(columns='계절')\n",
    "summer_temp.columns = ['년', '대지역', '소지역', 'su평균기온(℃)', 'su최고기온(℃)', 'su최저기온(℃)', 'su강수량(mm)']\n",
    "\n",
    "fall_temp = season_temp[season_temp['계절'] == '가을'].drop(columns='계절')\n",
    "fall_temp.columns = ['년', '대지역', '소지역', 'fa평균기온(℃)', 'fa최고기온(℃)', 'fa최저기온(℃)', 'fa강수량(mm)']"
   ]
  },
  {
   "cell_type": "code",
   "execution_count": 7,
   "id": "fb320ba3-4231-4871-8f4c-3dae02dc8213",
   "metadata": {},
   "outputs": [],
   "source": [
    "data = df.copy()\n",
    "seasons = [spring_temp, summer_temp, fall_temp]"
   ]
  },
  {
   "cell_type": "code",
   "execution_count": 8,
   "id": "f3f1d101-848d-4de4-bf98-b94eb9dd7175",
   "metadata": {},
   "outputs": [],
   "source": [
    "tmp = round(weather.groupby(['년', '대지역', '소지역']).mean(), 1).reset_index()\n",
    "data = data.merge(tmp, on=['년', '대지역', '소지역'])"
   ]
  },
  {
   "cell_type": "code",
   "execution_count": 9,
   "id": "5cf2025b-7054-47f3-b11e-fe93128a4012",
   "metadata": {},
   "outputs": [],
   "source": [
    "for season in seasons:\n",
    "    data = data.merge(season, on=['년', '대지역', '소지역'])"
   ]
  },
  {
   "cell_type": "code",
   "execution_count": 10,
   "id": "0be18501-efdd-4a64-87ca-1f984c698ef6",
   "metadata": {},
   "outputs": [
    {
     "data": {
      "text/plain": [
       "년                 0\n",
       "대지역               0\n",
       "소지역               0\n",
       "면적 (ha)           0\n",
       "생산량 (M/T)         0\n",
       "단위생산량 (kg/10a)    0\n",
       "평균기온 (℃)          0\n",
       "최고기온 (℃)          0\n",
       "최저기온 (℃)          0\n",
       "강수량 (㎜)           0\n",
       "상대습도 (%)          0\n",
       "최소 상대습도 (%)       0\n",
       "일조시간 (h)          0\n",
       "평균 풍속 (㎧)         0\n",
       "최대 풍속 (㎧)         0\n",
       "sp평균기온(℃)         0\n",
       "sp최고기온(℃)         0\n",
       "sp최저기온(℃)         0\n",
       "sp강수량(mm)         0\n",
       "su평균기온(℃)         0\n",
       "su최고기온(℃)         0\n",
       "su최저기온(℃)         0\n",
       "su강수량(mm)         0\n",
       "fa평균기온(℃)         0\n",
       "fa최고기온(℃)         0\n",
       "fa최저기온(℃)         0\n",
       "fa강수량(mm)         0\n",
       "dtype: int64"
      ]
     },
     "execution_count": 10,
     "metadata": {},
     "output_type": "execute_result"
    }
   ],
   "source": [
    "data.isnull().sum()"
   ]
  },
  {
   "cell_type": "code",
   "execution_count": 11,
   "id": "455af9c0-7863-4652-8e6b-0d6d096cd1dc",
   "metadata": {},
   "outputs": [
    {
     "name": "stdout",
     "output_type": "stream",
     "text": [
      "<class 'pandas.core.frame.DataFrame'>\n",
      "Int64Index: 223 entries, 0 to 222\n",
      "Data columns (total 27 columns):\n",
      " #   Column          Non-Null Count  Dtype  \n",
      "---  ------          --------------  -----  \n",
      " 0   년               223 non-null    int64  \n",
      " 1   대지역             223 non-null    object \n",
      " 2   소지역             223 non-null    object \n",
      " 3   면적 (ha)         223 non-null    float64\n",
      " 4   생산량 (M/T)       223 non-null    float64\n",
      " 5   단위생산량 (kg/10a)  223 non-null    float64\n",
      " 6   평균기온 (℃)        223 non-null    float64\n",
      " 7   최고기온 (℃)        223 non-null    float64\n",
      " 8   최저기온 (℃)        223 non-null    float64\n",
      " 9   강수량 (㎜)         223 non-null    float64\n",
      " 10  상대습도 (%)        223 non-null    float64\n",
      " 11  최소 상대습도 (%)     223 non-null    float64\n",
      " 12  일조시간 (h)        223 non-null    float64\n",
      " 13  평균 풍속 (㎧)       223 non-null    float64\n",
      " 14  최대 풍속 (㎧)       223 non-null    float64\n",
      " 15  sp평균기온(℃)       223 non-null    float64\n",
      " 16  sp최고기온(℃)       223 non-null    float64\n",
      " 17  sp최저기온(℃)       223 non-null    float64\n",
      " 18  sp강수량(mm)       223 non-null    float64\n",
      " 19  su평균기온(℃)       223 non-null    float64\n",
      " 20  su최고기온(℃)       223 non-null    float64\n",
      " 21  su최저기온(℃)       223 non-null    float64\n",
      " 22  su강수량(mm)       223 non-null    float64\n",
      " 23  fa평균기온(℃)       223 non-null    float64\n",
      " 24  fa최고기온(℃)       223 non-null    float64\n",
      " 25  fa최저기온(℃)       223 non-null    float64\n",
      " 26  fa강수량(mm)       223 non-null    float64\n",
      "dtypes: float64(24), int64(1), object(2)\n",
      "memory usage: 48.8+ KB\n"
     ]
    }
   ],
   "source": [
    "data.info()"
   ]
  },
  {
   "cell_type": "code",
   "execution_count": 12,
   "id": "a5b266c2-8cf2-4785-bb17-07056adecf9f",
   "metadata": {},
   "outputs": [],
   "source": [
    "data.to_csv('data/done/final_loc.csv', encoding='cp949', index=False)"
   ]
  },
  {
   "cell_type": "code",
   "execution_count": null,
   "id": "2853bbd1-304e-493b-8195-922997072fbe",
   "metadata": {},
   "outputs": [],
   "source": []
  }
 ],
 "metadata": {
  "kernelspec": {
   "display_name": "Python 3 (ipykernel)",
   "language": "python",
   "name": "python3"
  },
  "language_info": {
   "codemirror_mode": {
    "name": "ipython",
    "version": 3
   },
   "file_extension": ".py",
   "mimetype": "text/x-python",
   "name": "python",
   "nbconvert_exporter": "python",
   "pygments_lexer": "ipython3",
   "version": "3.9.13"
  }
 },
 "nbformat": 4,
 "nbformat_minor": 5
}
