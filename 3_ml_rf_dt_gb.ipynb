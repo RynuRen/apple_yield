{
 "cells": [
  {
   "cell_type": "code",
   "execution_count": 2,
   "id": "8358daf1-1a57-4fc7-a5d6-3c9d220e713d",
   "metadata": {},
   "outputs": [],
   "source": [
    "import pandas as pd\n",
    "import numpy as np\n",
    "import matplotlib.pyplot as plt\n",
    "import seaborn as sns\n",
    "import warnings\n",
    "warnings.filterwarnings('ignore')"
   ]
  },
  {
   "cell_type": "code",
   "execution_count": 3,
   "id": "dca4ac85-826a-493e-b49c-3807fbb00fbb",
   "metadata": {},
   "outputs": [],
   "source": [
    "data = pd.read_csv('data/done/ml_data.csv', encoding='cp949')"
   ]
  },
  {
   "cell_type": "code",
   "execution_count": 4,
   "id": "89add389-dd8f-4e4d-b369-fc5ba68544f3",
   "metadata": {},
   "outputs": [],
   "source": [
    "ori_y = data['단위생산량']\n",
    "data['단위생산량'] = np.log1p(data['단위생산량'])\n",
    "# 추후 결괏값을 expm1()으로 환원하여 실제 생산량으로!"
   ]
  },
  {
   "cell_type": "code",
   "execution_count": 5,
   "id": "4347118e-7902-4533-b521-623bb779fbdc",
   "metadata": {},
   "outputs": [],
   "source": [
    "random_state = 0"
   ]
  },
  {
   "cell_type": "code",
   "execution_count": 6,
   "id": "f63a254f-72fb-4469-8b34-b8b8ddea175c",
   "metadata": {},
   "outputs": [],
   "source": [
    "from sklearn.model_selection import train_test_split\n",
    "from sklearn.metrics import mean_squared_error"
   ]
  },
  {
   "cell_type": "code",
   "execution_count": 7,
   "id": "435a9f02-8ded-4d9a-b58c-ee171a5e2a17",
   "metadata": {},
   "outputs": [],
   "source": [
    "def get_rmse(model):\n",
    "    from sklearn.metrics import mean_squared_error\n",
    "    pred = model.predict(X_test)\n",
    "    mse = mean_squared_error(y_test, pred)\n",
    "    rmse = np.sqrt(mse)\n",
    "    print(model.__class__.__name__, '로그 변환된 RMSE:', np.round(rmse, 4))\n",
    "    return rmse\n",
    "\n",
    "def get_rmses(models):\n",
    "    rmses = []\n",
    "    for model in models:\n",
    "        rmse = get_rmse(model)\n",
    "        rmses.append(rmse)\n",
    "    return rmses"
   ]
  },
  {
   "cell_type": "code",
   "execution_count": 8,
   "id": "7104f24e-e0db-4ccc-850e-54020d84f6e7",
   "metadata": {
    "jupyter": {
     "source_hidden": true
    },
    "tags": []
   },
   "outputs": [],
   "source": [
    "def get_top_bottom_coef(model, n=10):\n",
    "    coef = pd.Series(model.coef_, index=X.columns)\n",
    "    \n",
    "    coef_high = coef.sort_values(ascending=False).head(n)\n",
    "    coef_low = coef.sort_values(ascending=False).tail(n)\n",
    "    return coef_high, coef_low"
   ]
  },
  {
   "cell_type": "code",
   "execution_count": 9,
   "id": "eeac7c51-42cf-4555-9484-0f76a16c77f8",
   "metadata": {
    "jupyter": {
     "source_hidden": true
    },
    "tags": []
   },
   "outputs": [],
   "source": [
    "def visualize_coef(models):\n",
    "    fig, axs = plt.subplots(figsize=(20, 15), nrows=2, ncols=2)\n",
    "    fig.tight_layout()\n",
    "    \n",
    "    for idx, model in enumerate(models):\n",
    "        coef_high, coef_low = get_top_bottom_coef(model)\n",
    "        coef_concat = pd.concat([coef_high, coef_low])\n",
    "        \n",
    "        row = int(idx / 2)\n",
    "        col = idx % 2\n",
    "        \n",
    "        axs[row][col].set_title(model.__class__.__name__+'Coeffiecents', size=25)\n",
    "        axs[row][col].tick_params(axis='y', direction='in', pad=-120)\n",
    "        for label in (axs[row][col].get_xticklabels() + axs[row][col].get_yticklabels()):\n",
    "            label.set_fontsize(20)\n",
    "        sns.barplot(x=coef_concat.values, y=coef_concat.index, ax=axs[row][col])"
   ]
  },
  {
   "cell_type": "code",
   "execution_count": 10,
   "id": "1515645c-746e-44e7-8bd2-0c059ecf9c9a",
   "metadata": {},
   "outputs": [],
   "source": [
    "def print_best_params(model, params):\n",
    "    from sklearn.model_selection import GridSearchCV\n",
    "    grid_model = GridSearchCV(model, param_grid=params, scoring='neg_mean_squared_error', cv=5)\n",
    "    grid_model.fit(X, y)\n",
    "    rmse = np.sqrt(-1*grid_model.best_score_)\n",
    "    print(f'{model.__class__.__name__} 5 CV 시 최적 평균 RMSE 값: {np.round(rmse, 4)}, 최적 alpha:{grid_model.best_params_}')"
   ]
  },
  {
   "cell_type": "code",
   "execution_count": 11,
   "id": "054dbc85-f84a-4f5f-bc51-39c7893c0719",
   "metadata": {},
   "outputs": [],
   "source": [
    "y = data['단위생산량']\n",
    "X = data.drop(columns='단위생산량')\n",
    "\n",
    "X_train, X_test, y_train, y_test = train_test_split(X, y, test_size=0.2, random_state=random_state)"
   ]
  },
  {
   "cell_type": "markdown",
   "id": "f6193f49-9180-450a-b75c-dfa2b75e9419",
   "metadata": {
    "tags": []
   },
   "source": [
    "# 결정트리"
   ]
  },
  {
   "cell_type": "code",
   "execution_count": 12,
   "id": "e44906cd-719d-4c26-9b0a-2de3bdde8a9c",
   "metadata": {},
   "outputs": [],
   "source": [
    "from sklearn.tree import DecisionTreeRegressor"
   ]
  },
  {
   "cell_type": "code",
   "execution_count": 13,
   "id": "3165651f-b0ad-4251-b6b6-8dffdaa84ed3",
   "metadata": {
    "tags": []
   },
   "outputs": [
    {
     "name": "stdout",
     "output_type": "stream",
     "text": [
      "DecisionTreeRegressor 로그 변환된 RMSE: 0.2313\n"
     ]
    },
    {
     "data": {
      "text/plain": [
       "0.23126374530463126"
      ]
     },
     "execution_count": 13,
     "metadata": {},
     "output_type": "execute_result"
    }
   ],
   "source": [
    "dt_reg = DecisionTreeRegressor()\n",
    "dt_reg.fit(X_train, y_train)\n",
    "\n",
    "get_rmse(dt_reg)"
   ]
  },
  {
   "cell_type": "markdown",
   "id": "7d240eb2-84b7-4600-af2f-5129f50cdb85",
   "metadata": {},
   "source": [
    "# SVM(Support Vector Machine)"
   ]
  },
  {
   "cell_type": "code",
   "execution_count": 14,
   "id": "14fd2da5-6a01-48f8-98d9-7bfc226b0f96",
   "metadata": {},
   "outputs": [],
   "source": [
    "from sklearn.svm import SVR"
   ]
  },
  {
   "cell_type": "code",
   "execution_count": 15,
   "id": "bf1276cd-737e-4b7a-a43e-b4621800b748",
   "metadata": {},
   "outputs": [
    {
     "name": "stdout",
     "output_type": "stream",
     "text": [
      "SVR 로그 변환된 RMSE: 0.1961\n"
     ]
    },
    {
     "data": {
      "text/plain": [
       "0.19612923122688092"
      ]
     },
     "execution_count": 15,
     "metadata": {},
     "output_type": "execute_result"
    }
   ],
   "source": [
    "svr_reg = SVR()\n",
    "svr_reg.fit(X_train, y_train)\n",
    "\n",
    "get_rmse(svr_reg)"
   ]
  },
  {
   "cell_type": "markdown",
   "id": "56e1b7fc-d4fa-447b-96d1-14b5e38b8fa5",
   "metadata": {},
   "source": [
    "# Gradient Boosting"
   ]
  },
  {
   "cell_type": "code",
   "execution_count": 16,
   "id": "a1656601-2b72-4c95-9101-cfcb8dec8859",
   "metadata": {},
   "outputs": [],
   "source": [
    "from sklearn.ensemble import GradientBoostingRegressor"
   ]
  },
  {
   "cell_type": "code",
   "execution_count": 17,
   "id": "c636e7b0-f1ae-4e30-bc1b-43e972e75395",
   "metadata": {},
   "outputs": [
    {
     "name": "stdout",
     "output_type": "stream",
     "text": [
      "GradientBoostingRegressor 로그 변환된 RMSE: 0.2153\n"
     ]
    },
    {
     "data": {
      "text/plain": [
       "0.21534076750569528"
      ]
     },
     "execution_count": 17,
     "metadata": {},
     "output_type": "execute_result"
    }
   ],
   "source": [
    "gb_reg = GradientBoostingRegressor()\n",
    "gb_reg.fit(X_train, y_train)\n",
    "\n",
    "get_rmse(gb_reg)"
   ]
  },
  {
   "cell_type": "markdown",
   "id": "b2477ab9-bb2d-42fa-8f5d-accfc03326a5",
   "metadata": {
    "tags": []
   },
   "source": [
    "# 랜덤 포레스트"
   ]
  },
  {
   "cell_type": "code",
   "execution_count": 18,
   "id": "68a12830-4764-40a7-bd0f-5e5ad6f0d28d",
   "metadata": {},
   "outputs": [],
   "source": [
    "from sklearn.ensemble import RandomForestRegressor"
   ]
  },
  {
   "cell_type": "code",
   "execution_count": 19,
   "id": "8586bdcc-2cbf-441a-8525-234fd65ce527",
   "metadata": {},
   "outputs": [
    {
     "name": "stdout",
     "output_type": "stream",
     "text": [
      "RandomForestRegressor 로그 변환된 RMSE: 0.1872\n"
     ]
    },
    {
     "data": {
      "text/plain": [
       "0.1871971480379453"
      ]
     },
     "execution_count": 19,
     "metadata": {},
     "output_type": "execute_result"
    }
   ],
   "source": [
    "rf_reg = RandomForestRegressor(n_jobs=-1)\n",
    "rf_reg.fit(X_train, y_train)\n",
    "\n",
    "get_rmse(rf_reg)"
   ]
  },
  {
   "cell_type": "code",
   "execution_count": 19,
   "id": "6cdb2fd0-cd82-4892-884d-23ced7a8eb30",
   "metadata": {},
   "outputs": [
    {
     "name": "stdout",
     "output_type": "stream",
     "text": [
      "RandomForestRegressor 5 CV 시 최적 평균 RMSE 값: 0.2476, 최적 alpha:{'max_depth': 20, 'min_samples_leaf': 10, 'min_samples_split': 10}\n"
     ]
    }
   ],
   "source": [
    "rf_params = {'max_depth':[8, 11, 15, 20],\n",
    "             'min_samples_leaf':[8, 10, 11, 14],\n",
    "             'min_samples_split':[6, 8, 10, 12, 14]\n",
    "            }\n",
    "best_rige = print_best_params(rf_reg, rf_params)"
   ]
  },
  {
   "cell_type": "code",
   "execution_count": 20,
   "id": "9b99fd24-8073-44bb-8e03-80d9495bf53d",
   "metadata": {},
   "outputs": [
    {
     "name": "stdout",
     "output_type": "stream",
     "text": [
      "RandomForestRegressor 로그 변환된 RMSE: 0.1774\n"
     ]
    },
    {
     "data": {
      "text/plain": [
       "0.1773695344494525"
      ]
     },
     "execution_count": 20,
     "metadata": {},
     "output_type": "execute_result"
    }
   ],
   "source": [
    "rf_reg = RandomForestRegressor(n_estimators=1000, n_jobs=-1, max_depth=15, min_samples_leaf=8, min_samples_split=14, random_state=random_state)\n",
    "rf_reg.fit(X_train, y_train)\n",
    "\n",
    "get_rmse(rf_reg)"
   ]
  },
  {
   "cell_type": "markdown",
   "id": "788a4efc-5201-48de-944b-6a5044475522",
   "metadata": {},
   "source": [
    "RandomForestRegressor(n_estimators=1000, n_jobs=-1, max_depth=15, min_samples_leaf=8, min_samples_split=14, random_state=random_state)"
   ]
  },
  {
   "cell_type": "code",
   "execution_count": 21,
   "id": "4050df82-3680-426a-b513-98ebc9f9e935",
   "metadata": {},
   "outputs": [
    {
     "data": {
      "text/plain": [
       "<AxesSubplot:>"
      ]
     },
     "execution_count": 21,
     "metadata": {},
     "output_type": "execute_result"
    },
    {
     "data": {
      "image/png": "[encoded data removed]",
      "text/plain": [
       "<Figure size 640x480 with 1 Axes>"
      ]
     },
     "metadata": {},
     "output_type": "display_data"
    }
   ],
   "source": [
    "fi_value = rf_reg.feature_importances_\n",
    "fi = pd.Series(fi_value, X.columns)\n",
    "fi_top10 = fi.sort_values(ascending=False)[:10]\n",
    "\n",
    "sns.barplot(x=fi_top10.values, y=fi_top10.index, palette='hls')"
   ]
  },
  {
   "cell_type": "markdown",
   "id": "5fa2cbc9-0677-4281-874f-8d28ff2a1952",
   "metadata": {},
   "source": [
    "# Random Forest Regression 향후 예측"
   ]
  },
  {
   "cell_type": "markdown",
   "id": "7e7afae8-728d-4409-91e9-7789d41d15d8",
   "metadata": {},
   "source": [
    "## 강원도 예측"
   ]
  },
  {
   "cell_type": "code",
   "execution_count": 22,
   "id": "2529c310-b6de-431e-aced-e8bef1c0f9b9",
   "metadata": {},
   "outputs": [],
   "source": [
    "X_test = pd.read_csv('data/gangwonchange.csv', encoding='cp949')\n",
    "\n",
    "year = X_test['년']\n",
    "\n",
    "X_test.drop(columns='년', inplace=True)"
   ]
  },
  {
   "cell_type": "code",
   "execution_count": 23,
   "id": "3d69668f-6431-43db-ad6a-05afab32e924",
   "metadata": {},
   "outputs": [],
   "source": [
    "pred = rf_reg.predict(X_test)"
   ]
  },
  {
   "cell_type": "code",
   "execution_count": 24,
   "id": "07c8a940-d101-4673-9968-dda0f2abb2b2",
   "metadata": {
    "tags": []
   },
   "outputs": [
    {
     "data": {
      "text/html": [
       "<div>\n",
       "<style scoped>\n",
       "    .dataframe tbody tr th:only-of-type {\n",
       "        vertical-align: middle;\n",
       "    }\n",
       "\n",
       "    .dataframe tbody tr th {\n",
       "        vertical-align: top;\n",
       "    }\n",
       "\n",
       "    .dataframe thead th {\n",
       "        text-align: right;\n",
       "    }\n",
       "</style>\n",
       "<table border=\"1\" class=\"dataframe\">\n",
       "  <thead>\n",
       "    <tr style=\"text-align: right;\">\n",
       "      <th></th>\n",
       "      <th>예상</th>\n",
       "      <th>년</th>\n",
       "    </tr>\n",
       "  </thead>\n",
       "  <tbody>\n",
       "    <tr>\n",
       "      <th>0</th>\n",
       "      <td>1240.631198</td>\n",
       "      <td>2001~2010</td>\n",
       "    </tr>\n",
       "    <tr>\n",
       "      <th>1</th>\n",
       "      <td>1239.735999</td>\n",
       "      <td>2021~2030</td>\n",
       "    </tr>\n",
       "    <tr>\n",
       "      <th>2</th>\n",
       "      <td>1442.860310</td>\n",
       "      <td>2031~2040</td>\n",
       "    </tr>\n",
       "    <tr>\n",
       "      <th>3</th>\n",
       "      <td>1444.648176</td>\n",
       "      <td>2041~2050</td>\n",
       "    </tr>\n",
       "    <tr>\n",
       "      <th>4</th>\n",
       "      <td>1497.459342</td>\n",
       "      <td>2051~2060</td>\n",
       "    </tr>\n",
       "    <tr>\n",
       "      <th>5</th>\n",
       "      <td>1517.567965</td>\n",
       "      <td>2061~2070</td>\n",
       "    </tr>\n",
       "    <tr>\n",
       "      <th>6</th>\n",
       "      <td>1517.567965</td>\n",
       "      <td>2071~2080</td>\n",
       "    </tr>\n",
       "    <tr>\n",
       "      <th>7</th>\n",
       "      <td>1519.756716</td>\n",
       "      <td>2081~2090</td>\n",
       "    </tr>\n",
       "    <tr>\n",
       "      <th>8</th>\n",
       "      <td>1626.841117</td>\n",
       "      <td>2091~2100</td>\n",
       "    </tr>\n",
       "  </tbody>\n",
       "</table>\n",
       "</div>"
      ],
      "text/plain": [
       "            예상          년\n",
       "0  1240.631198  2001~2010\n",
       "1  1239.735999  2021~2030\n",
       "2  1442.860310  2031~2040\n",
       "3  1444.648176  2041~2050\n",
       "4  1497.459342  2051~2060\n",
       "5  1517.567965  2061~2070\n",
       "6  1517.567965  2071~2080\n",
       "7  1519.756716  2081~2090\n",
       "8  1626.841117  2091~2100"
      ]
     },
     "execution_count": 24,
     "metadata": {},
     "output_type": "execute_result"
    }
   ],
   "source": [
    "predict = pd.DataFrame(np.expm1(pred))\n",
    "\n",
    "predict['년'] = year\n",
    "\n",
    "predict.columns = ['예상', '년']\n",
    "\n",
    "predict"
   ]
  },
  {
   "cell_type": "code",
   "execution_count": 25,
   "id": "2566d14e-4ed0-4bf3-b3a4-11f0f983be17",
   "metadata": {},
   "outputs": [
    {
     "data": {
      "text/plain": [
       "[<matplotlib.lines.Line2D at 0x22d08182400>]"
      ]
     },
     "execution_count": 25,
     "metadata": {},
     "output_type": "execute_result"
    },
    {
     "data": {
      "image/png": "[encoded data removed]",
      "text/plain": [
       "<Figure size 640x480 with 1 Axes>"
      ]
     },
     "metadata": {},
     "output_type": "display_data"
    }
   ],
   "source": [
    "plt.plot(predict['년'], predict['예상'])"
   ]
  },
  {
   "cell_type": "code",
   "execution_count": 26,
   "id": "6cd0ebef-e111-4ae4-9d52-79c28c65f4c7",
   "metadata": {},
   "outputs": [],
   "source": [
    "predict.to_csv('data/predict/gangwon_rf.csv', encoding='cp949', index=False)"
   ]
  },
  {
   "cell_type": "markdown",
   "id": "873040f0-c20a-40b8-b8a8-577a83a4561a",
   "metadata": {},
   "source": [
    "## 충남 예측"
   ]
  },
  {
   "cell_type": "code",
   "execution_count": 27,
   "id": "1d02605b-4ba0-4d8d-9668-61c3017d406d",
   "metadata": {},
   "outputs": [],
   "source": [
    "X_test = pd.read_csv('data/chungnamchange.csv', encoding='cp949')\n",
    "\n",
    "year = X_test['년']\n",
    "\n",
    "X_test.drop(columns='년', inplace=True)"
   ]
  },
  {
   "cell_type": "code",
   "execution_count": 28,
   "id": "5823933e-4590-4e7e-bbf0-9e8ec76e70e9",
   "metadata": {},
   "outputs": [],
   "source": [
    "pred = rf_reg.predict(X_test)"
   ]
  },
  {
   "cell_type": "code",
   "execution_count": 29,
   "id": "a03be7a4-4508-4955-a7b6-930d14ac7342",
   "metadata": {
    "tags": []
   },
   "outputs": [
    {
     "data": {
      "text/html": [
       "<div>\n",
       "<style scoped>\n",
       "    .dataframe tbody tr th:only-of-type {\n",
       "        vertical-align: middle;\n",
       "    }\n",
       "\n",
       "    .dataframe tbody tr th {\n",
       "        vertical-align: top;\n",
       "    }\n",
       "\n",
       "    .dataframe thead th {\n",
       "        text-align: right;\n",
       "    }\n",
       "</style>\n",
       "<table border=\"1\" class=\"dataframe\">\n",
       "  <thead>\n",
       "    <tr style=\"text-align: right;\">\n",
       "      <th></th>\n",
       "      <th>예상</th>\n",
       "      <th>년</th>\n",
       "    </tr>\n",
       "  </thead>\n",
       "  <tbody>\n",
       "    <tr>\n",
       "      <th>0</th>\n",
       "      <td>1606.774194</td>\n",
       "      <td>2001~2010</td>\n",
       "    </tr>\n",
       "    <tr>\n",
       "      <th>1</th>\n",
       "      <td>1608.186299</td>\n",
       "      <td>2021~2030</td>\n",
       "    </tr>\n",
       "    <tr>\n",
       "      <th>2</th>\n",
       "      <td>1616.516813</td>\n",
       "      <td>2031~2040</td>\n",
       "    </tr>\n",
       "    <tr>\n",
       "      <th>3</th>\n",
       "      <td>1621.095996</td>\n",
       "      <td>2041~2050</td>\n",
       "    </tr>\n",
       "    <tr>\n",
       "      <th>4</th>\n",
       "      <td>1621.298439</td>\n",
       "      <td>2051~2060</td>\n",
       "    </tr>\n",
       "    <tr>\n",
       "      <th>5</th>\n",
       "      <td>1624.025053</td>\n",
       "      <td>2061~2070</td>\n",
       "    </tr>\n",
       "    <tr>\n",
       "      <th>6</th>\n",
       "      <td>1614.023105</td>\n",
       "      <td>2071~2080</td>\n",
       "    </tr>\n",
       "    <tr>\n",
       "      <th>7</th>\n",
       "      <td>1610.739872</td>\n",
       "      <td>2081~2090</td>\n",
       "    </tr>\n",
       "    <tr>\n",
       "      <th>8</th>\n",
       "      <td>1612.121914</td>\n",
       "      <td>2091~2100</td>\n",
       "    </tr>\n",
       "  </tbody>\n",
       "</table>\n",
       "</div>"
      ],
      "text/plain": [
       "            예상          년\n",
       "0  1606.774194  2001~2010\n",
       "1  1608.186299  2021~2030\n",
       "2  1616.516813  2031~2040\n",
       "3  1621.095996  2041~2050\n",
       "4  1621.298439  2051~2060\n",
       "5  1624.025053  2061~2070\n",
       "6  1614.023105  2071~2080\n",
       "7  1610.739872  2081~2090\n",
       "8  1612.121914  2091~2100"
      ]
     },
     "execution_count": 29,
     "metadata": {},
     "output_type": "execute_result"
    }
   ],
   "source": [
    "predict = pd.DataFrame(np.expm1(pred))\n",
    "\n",
    "predict['년'] = year\n",
    "\n",
    "predict.columns = ['예상', '년']\n",
    "\n",
    "predict"
   ]
  },
  {
   "cell_type": "code",
   "execution_count": 30,
   "id": "24394752-d9c1-47dd-8f51-2c610745067d",
   "metadata": {},
   "outputs": [
    {
     "data": {
      "text/plain": [
       "[<matplotlib.lines.Line2D at 0x22d0820aa30>]"
      ]
     },
     "execution_count": 30,
     "metadata": {},
     "output_type": "execute_result"
    },
    {
     "data": {
      "image/png": "[encoded data removed]",
      "text/plain": [
       "<Figure size 640x480 with 1 Axes>"
      ]
     },
     "metadata": {},
     "output_type": "display_data"
    }
   ],
   "source": [
    "plt.plot(predict['년'], predict['예상'])"
   ]
  },
  {
   "cell_type": "code",
   "execution_count": 31,
   "id": "b39133d1-cc80-4bdc-af4c-ca06e01f0b7a",
   "metadata": {},
   "outputs": [],
   "source": [
    "predict.to_csv('data/predict/chungnam_rf.csv', encoding='cp949', index=False)"
   ]
  },
  {
   "cell_type": "markdown",
   "id": "e39656fd-3b06-489f-9c78-18eafe2249b3",
   "metadata": {
    "tags": []
   },
   "source": [
    "## 경북 예측"
   ]
  },
  {
   "cell_type": "code",
   "execution_count": 32,
   "id": "fd739575-038f-4c16-8d45-0484659d7c33",
   "metadata": {},
   "outputs": [],
   "source": [
    "X_test = pd.read_csv('data/gyeongbukchange.csv', encoding='cp949')\n",
    "\n",
    "year = X_test['년']\n",
    "\n",
    "X_test.drop(columns='년', inplace=True)"
   ]
  },
  {
   "cell_type": "code",
   "execution_count": 33,
   "id": "92262253-14a8-47df-a0c8-5a2b473ed5e3",
   "metadata": {},
   "outputs": [],
   "source": [
    "pred = rf_reg.predict(X_test)"
   ]
  },
  {
   "cell_type": "code",
   "execution_count": 34,
   "id": "24609755-d1f0-42b5-8c7e-24f5784db219",
   "metadata": {},
   "outputs": [
    {
     "data": {
      "text/html": [
       "<div>\n",
       "<style scoped>\n",
       "    .dataframe tbody tr th:only-of-type {\n",
       "        vertical-align: middle;\n",
       "    }\n",
       "\n",
       "    .dataframe tbody tr th {\n",
       "        vertical-align: top;\n",
       "    }\n",
       "\n",
       "    .dataframe thead th {\n",
       "        text-align: right;\n",
       "    }\n",
       "</style>\n",
       "<table border=\"1\" class=\"dataframe\">\n",
       "  <thead>\n",
       "    <tr style=\"text-align: right;\">\n",
       "      <th></th>\n",
       "      <th>예상</th>\n",
       "      <th>년</th>\n",
       "    </tr>\n",
       "  </thead>\n",
       "  <tbody>\n",
       "    <tr>\n",
       "      <th>0</th>\n",
       "      <td>1641.701777</td>\n",
       "      <td>2001~2010</td>\n",
       "    </tr>\n",
       "    <tr>\n",
       "      <th>1</th>\n",
       "      <td>1599.139090</td>\n",
       "      <td>2021~2030</td>\n",
       "    </tr>\n",
       "    <tr>\n",
       "      <th>2</th>\n",
       "      <td>1637.177445</td>\n",
       "      <td>2031~2040</td>\n",
       "    </tr>\n",
       "    <tr>\n",
       "      <th>3</th>\n",
       "      <td>1643.225390</td>\n",
       "      <td>2041~2050</td>\n",
       "    </tr>\n",
       "    <tr>\n",
       "      <th>4</th>\n",
       "      <td>1654.240270</td>\n",
       "      <td>2051~2060</td>\n",
       "    </tr>\n",
       "    <tr>\n",
       "      <th>5</th>\n",
       "      <td>1667.997195</td>\n",
       "      <td>2061~2070</td>\n",
       "    </tr>\n",
       "    <tr>\n",
       "      <th>6</th>\n",
       "      <td>1673.785108</td>\n",
       "      <td>2071~2080</td>\n",
       "    </tr>\n",
       "    <tr>\n",
       "      <th>7</th>\n",
       "      <td>1653.611335</td>\n",
       "      <td>2081~2090</td>\n",
       "    </tr>\n",
       "    <tr>\n",
       "      <th>8</th>\n",
       "      <td>1638.470393</td>\n",
       "      <td>2091~2100</td>\n",
       "    </tr>\n",
       "  </tbody>\n",
       "</table>\n",
       "</div>"
      ],
      "text/plain": [
       "            예상          년\n",
       "0  1641.701777  2001~2010\n",
       "1  1599.139090  2021~2030\n",
       "2  1637.177445  2031~2040\n",
       "3  1643.225390  2041~2050\n",
       "4  1654.240270  2051~2060\n",
       "5  1667.997195  2061~2070\n",
       "6  1673.785108  2071~2080\n",
       "7  1653.611335  2081~2090\n",
       "8  1638.470393  2091~2100"
      ]
     },
     "execution_count": 34,
     "metadata": {},
     "output_type": "execute_result"
    }
   ],
   "source": [
    "predict = pd.DataFrame(np.expm1(pred))\n",
    "\n",
    "predict['년'] = year\n",
    "\n",
    "predict.columns = ['예상', '년']\n",
    "\n",
    "predict"
   ]
  },
  {
   "cell_type": "code",
   "execution_count": 35,
   "id": "6d552a8f-4516-4ac5-8d1a-d4b9272efd2c",
   "metadata": {},
   "outputs": [
    {
     "data": {
      "text/plain": [
       "[<matplotlib.lines.Line2D at 0x22d083c5ca0>]"
      ]
     },
     "execution_count": 35,
     "metadata": {},
     "output_type": "execute_result"
    },
    {
     "data": {
      "image/png": "[encoded data removed]",
      "text/plain": [
       "<Figure size 640x480 with 1 Axes>"
      ]
     },
     "metadata": {},
     "output_type": "display_data"
    }
   ],
   "source": [
    "plt.plot(predict['년'], predict['예상'])"
   ]
  },
  {
   "cell_type": "code",
   "execution_count": 36,
   "id": "1a0d631d-45c7-42fd-9939-a557d13fed94",
   "metadata": {},
   "outputs": [],
   "source": [
    "predict.to_csv('data/predict/gyeongbuk_rf.csv', encoding='cp949', index=False)"
   ]
  },
  {
   "cell_type": "code",
   "execution_count": null,
   "id": "77675ec3-6128-4b00-8efc-fca08f0b3357",
   "metadata": {},
   "outputs": [],
   "source": []
  }
 ],
 "metadata": {
  "kernelspec": {
   "display_name": "Python 3 (ipykernel)",
   "language": "python",
   "name": "python3"
  },
  "language_info": {
   "codemirror_mode": {
    "name": "ipython",
    "version": 3
   },
   "file_extension": ".py",
   "mimetype": "text/x-python",
   "name": "python",
   "nbconvert_exporter": "python",
   "pygments_lexer": "ipython3",
   "version": "3.9.13"
  }
 },
 "nbformat": 4,
 "nbformat_minor": 5
}
